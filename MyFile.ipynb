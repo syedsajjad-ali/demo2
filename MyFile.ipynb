{
    "cells": [
        {
            "cell_type": "markdown",
            "metadata": {},
            "source": "Description"
        },
        {
            "cell_type": "code",
            "execution_count": 1,
            "metadata": {},
            "outputs": [
                {
                    "data": {
                        "text/html": "<div>\n<style scoped>\n    .dataframe tbody tr th:only-of-type {\n        vertical-align: middle;\n    }\n\n    .dataframe tbody tr th {\n        vertical-align: top;\n    }\n\n    .dataframe thead th {\n        text-align: right;\n    }\n</style>\n<table border=\"1\" class=\"dataframe\">\n  <thead>\n    <tr style=\"text-align: right;\">\n      <th></th>\n      <th>iso_code</th>\n      <th>continent</th>\n      <th>location</th>\n      <th>date</th>\n      <th>total_cases</th>\n      <th>new_cases</th>\n      <th>total_deaths</th>\n      <th>new_deaths</th>\n      <th>total_cases_per_million</th>\n      <th>new_cases_per_million</th>\n      <th>...</th>\n      <th>aged_65_older</th>\n      <th>aged_70_older</th>\n      <th>gdp_per_capita</th>\n      <th>extreme_poverty</th>\n      <th>cvd_death_rate</th>\n      <th>diabetes_prevalence</th>\n      <th>female_smokers</th>\n      <th>male_smokers</th>\n      <th>handwashing_facilities</th>\n      <th>hospital_beds_per_thousand</th>\n    </tr>\n  </thead>\n  <tbody>\n    <tr>\n      <th>0</th>\n      <td>AFG</td>\n      <td>Asia</td>\n      <td>Afghanistan</td>\n      <td>2019-12-31</td>\n      <td>0.0</td>\n      <td>0.0</td>\n      <td>0.0</td>\n      <td>0.0</td>\n      <td>0.0</td>\n      <td>0.0</td>\n      <td>...</td>\n      <td>2.581</td>\n      <td>1.337</td>\n      <td>1803.987</td>\n      <td>NaN</td>\n      <td>597.029</td>\n      <td>9.59</td>\n      <td>NaN</td>\n      <td>NaN</td>\n      <td>37.746</td>\n      <td>0.5</td>\n    </tr>\n    <tr>\n      <th>1</th>\n      <td>AFG</td>\n      <td>Asia</td>\n      <td>Afghanistan</td>\n      <td>2020-01-01</td>\n      <td>0.0</td>\n      <td>0.0</td>\n      <td>0.0</td>\n      <td>0.0</td>\n      <td>0.0</td>\n      <td>0.0</td>\n      <td>...</td>\n      <td>2.581</td>\n      <td>1.337</td>\n      <td>1803.987</td>\n      <td>NaN</td>\n      <td>597.029</td>\n      <td>9.59</td>\n      <td>NaN</td>\n      <td>NaN</td>\n      <td>37.746</td>\n      <td>0.5</td>\n    </tr>\n    <tr>\n      <th>2</th>\n      <td>AFG</td>\n      <td>Asia</td>\n      <td>Afghanistan</td>\n      <td>2020-01-02</td>\n      <td>0.0</td>\n      <td>0.0</td>\n      <td>0.0</td>\n      <td>0.0</td>\n      <td>0.0</td>\n      <td>0.0</td>\n      <td>...</td>\n      <td>2.581</td>\n      <td>1.337</td>\n      <td>1803.987</td>\n      <td>NaN</td>\n      <td>597.029</td>\n      <td>9.59</td>\n      <td>NaN</td>\n      <td>NaN</td>\n      <td>37.746</td>\n      <td>0.5</td>\n    </tr>\n    <tr>\n      <th>3</th>\n      <td>AFG</td>\n      <td>Asia</td>\n      <td>Afghanistan</td>\n      <td>2020-01-03</td>\n      <td>0.0</td>\n      <td>0.0</td>\n      <td>0.0</td>\n      <td>0.0</td>\n      <td>0.0</td>\n      <td>0.0</td>\n      <td>...</td>\n      <td>2.581</td>\n      <td>1.337</td>\n      <td>1803.987</td>\n      <td>NaN</td>\n      <td>597.029</td>\n      <td>9.59</td>\n      <td>NaN</td>\n      <td>NaN</td>\n      <td>37.746</td>\n      <td>0.5</td>\n    </tr>\n    <tr>\n      <th>4</th>\n      <td>AFG</td>\n      <td>Asia</td>\n      <td>Afghanistan</td>\n      <td>2020-01-04</td>\n      <td>0.0</td>\n      <td>0.0</td>\n      <td>0.0</td>\n      <td>0.0</td>\n      <td>0.0</td>\n      <td>0.0</td>\n      <td>...</td>\n      <td>2.581</td>\n      <td>1.337</td>\n      <td>1803.987</td>\n      <td>NaN</td>\n      <td>597.029</td>\n      <td>9.59</td>\n      <td>NaN</td>\n      <td>NaN</td>\n      <td>37.746</td>\n      <td>0.5</td>\n    </tr>\n  </tbody>\n</table>\n<p>5 rows \u00d7 33 columns</p>\n</div>",
                        "text/plain": "  iso_code continent     location        date  total_cases  new_cases  \\\n0      AFG      Asia  Afghanistan  2019-12-31          0.0        0.0   \n1      AFG      Asia  Afghanistan  2020-01-01          0.0        0.0   \n2      AFG      Asia  Afghanistan  2020-01-02          0.0        0.0   \n3      AFG      Asia  Afghanistan  2020-01-03          0.0        0.0   \n4      AFG      Asia  Afghanistan  2020-01-04          0.0        0.0   \n\n   total_deaths  new_deaths  total_cases_per_million  new_cases_per_million  \\\n0           0.0         0.0                      0.0                    0.0   \n1           0.0         0.0                      0.0                    0.0   \n2           0.0         0.0                      0.0                    0.0   \n3           0.0         0.0                      0.0                    0.0   \n4           0.0         0.0                      0.0                    0.0   \n\n   ...  aged_65_older  aged_70_older  gdp_per_capita  extreme_poverty  \\\n0  ...          2.581          1.337        1803.987              NaN   \n1  ...          2.581          1.337        1803.987              NaN   \n2  ...          2.581          1.337        1803.987              NaN   \n3  ...          2.581          1.337        1803.987              NaN   \n4  ...          2.581          1.337        1803.987              NaN   \n\n   cvd_death_rate  diabetes_prevalence  female_smokers  male_smokers  \\\n0         597.029                 9.59             NaN           NaN   \n1         597.029                 9.59             NaN           NaN   \n2         597.029                 9.59             NaN           NaN   \n3         597.029                 9.59             NaN           NaN   \n4         597.029                 9.59             NaN           NaN   \n\n  handwashing_facilities  hospital_beds_per_thousand  \n0                 37.746                         0.5  \n1                 37.746                         0.5  \n2                 37.746                         0.5  \n3                 37.746                         0.5  \n4                 37.746                         0.5  \n\n[5 rows x 33 columns]"
                    },
                    "execution_count": 1,
                    "metadata": {},
                    "output_type": "execute_result"
                }
            ],
            "source": "# The code was removed by Watson Studio for sharing."
        },
        {
            "cell_type": "code",
            "execution_count": null,
            "metadata": {},
            "outputs": [],
            "source": ""
        },
        {
            "cell_type": "code",
            "execution_count": null,
            "metadata": {},
            "outputs": [],
            "source": ""
        }
    ],
    "metadata": {
        "kernelspec": {
            "display_name": "Python 3.6",
            "language": "python",
            "name": "python3"
        },
        "language_info": {
            "codemirror_mode": {
                "name": "ipython",
                "version": 3
            },
            "file_extension": ".py",
            "mimetype": "text/x-python",
            "name": "python",
            "nbconvert_exporter": "python",
            "pygments_lexer": "ipython3",
            "version": "3.6.9"
        }
    },
    "nbformat": 4,
    "nbformat_minor": 1
}